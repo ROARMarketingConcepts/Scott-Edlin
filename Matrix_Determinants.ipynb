{
  "nbformat": 4,
  "nbformat_minor": 0,
  "metadata": {
    "colab": {
      "provenance": []
    },
    "kernelspec": {
      "name": "python3",
      "display_name": "Python 3"
    },
    "language_info": {
      "name": "python"
    }
  },
  "cells": [
    {
      "cell_type": "code",
      "execution_count": null,
      "metadata": {
        "id": "yTwnFwXmHMXT"
      },
      "outputs": [],
      "source": [
        "import numpy as np\n",
        "from scipy import linalg"
      ]
    },
    {
      "cell_type": "code",
      "source": [
        "e1 = np.array([[1]])\n",
        "det_e1 = np.linalg.det(e1)\n",
        "det_e1"
      ],
      "metadata": {
        "colab": {
          "base_uri": "https://localhost:8080/"
        },
        "id": "-fnCU8i4Iuvw",
        "outputId": "cdadd302-f762-43da-ca53-e73038e3dd73"
      },
      "execution_count": null,
      "outputs": [
        {
          "output_type": "execute_result",
          "data": {
            "text/plain": [
              "1.0"
            ]
          },
          "metadata": {},
          "execution_count": 2
        }
      ]
    },
    {
      "cell_type": "code",
      "source": [
        "e2 = np.array([\n",
        "    [1,1],\n",
        "    [1,1]\n",
        "    ])\n",
        "det_e2 = np.linalg.det(e2)    # (1)(1)-(1)(1) = 0\n",
        "det_e2"
      ],
      "metadata": {
        "colab": {
          "base_uri": "https://localhost:8080/"
        },
        "id": "6EhBy7NeI_Xe",
        "outputId": "47e755fb-ce18-4309-ea74-93be47b2f9ed"
      },
      "execution_count": null,
      "outputs": [
        {
          "output_type": "execute_result",
          "data": {
            "text/plain": [
              "0.0"
            ]
          },
          "metadata": {},
          "execution_count": 3
        }
      ]
    },
    {
      "cell_type": "code",
      "source": [
        "e3 = np.array([\n",
        "    [1,1,0],\n",
        "    [1,1,1],\n",
        "    [0,1,1]\n",
        "    ])\n",
        "det_e3 = np.linalg.det(e3)    # 1*((1*1)-(1*1))-1*((1*1)-(1*0))+0*((1*1)-(1*0)) = -1\n",
        "det_e3"
      ],
      "metadata": {
        "colab": {
          "base_uri": "https://localhost:8080/"
        },
        "id": "o7amNBq1JFgl",
        "outputId": "679c11d1-85a1-4ecc-d08e-85cf3aec7843"
      },
      "execution_count": null,
      "outputs": [
        {
          "output_type": "execute_result",
          "data": {
            "text/plain": [
              "-1.0"
            ]
          },
          "metadata": {},
          "execution_count": 4
        }
      ]
    },
    {
      "cell_type": "markdown",
      "source": [
        "$|e_{3}| = (1)[(1)(1)-(1)(1)] - (1) [(1)(1)-(1)(0)] = (1)(0) - (1)(1) = -1$"
      ],
      "metadata": {
        "id": "x-zEUpzzXrBz"
      }
    },
    {
      "cell_type": "code",
      "source": [
        "e4 = np.array([\n",
        "    [1,1,0,0],\n",
        "    [1,1,1,0],\n",
        "    [0,1,1,1],\n",
        "    [0,0,1,1]\n",
        "    ])\n",
        "det_e4 = np.linalg.det(e4)\n",
        "det_e4"
      ],
      "metadata": {
        "colab": {
          "base_uri": "https://localhost:8080/"
        },
        "id": "KRbD0pnaHaZR",
        "outputId": "dd520f69-1c03-4f2a-d541-49dce3018a57"
      },
      "execution_count": null,
      "outputs": [
        {
          "output_type": "execute_result",
          "data": {
            "text/plain": [
              "-1.0"
            ]
          },
          "metadata": {},
          "execution_count": 5
        }
      ]
    },
    {
      "cell_type": "markdown",
      "source": [
        "$|e_{4}| = (1) \\begin{vmatrix} 1 & 1 & 0 \\\\ 1 & 1 & 1 \\\\ 0 & 1 & 1 \\end{vmatrix} - (1) \\begin{vmatrix} 1 & 1 & 0 \\\\ 0 & 1 & 1 \\\\ 0 & 1 & 1 \\end{vmatrix} = (1)\\big[(1)\\begin{vmatrix} 1 & 1  \\\\ 1 & 1  \\end{vmatrix} - (1)\\begin{vmatrix} 1 & 1  \\\\ 0 & 1  \\end{vmatrix}\\big]-(1)\\big[(1)\\begin{vmatrix} 1 & 1  \\\\ 1 & 1  \\end{vmatrix}-(1)\\begin{vmatrix} 0 & 0  \\\\ 1 & 1  \\end{vmatrix}\\big] = (1)[(1)[(1)(1)-(1)(1)] - (1)[(1)(1)-(1)(0)]-(1)[(1)[(1)(1)-(1)(1)]-(1)[(0)(1)-(0)(1)] = (1)[(1)(0)-(1)(1)]-(1) [(1)(0)-(1)(0)] = (1)(-1) - (1)(0) = -1$"
      ],
      "metadata": {
        "id": "imBK8KBsYk-d"
      }
    },
    {
      "cell_type": "code",
      "source": [
        "e5 = np.array([\n",
        "    [1,1,0,0,0],\n",
        "    [1,1,1,0,0],\n",
        "    [0,1,1,1,0],\n",
        "    [0,0,1,1,1],\n",
        "    [0,0,0,1,1]\n",
        "])\n",
        "det_e5 = np.linalg.det(e5)\n",
        "det_e5"
      ],
      "metadata": {
        "colab": {
          "base_uri": "https://localhost:8080/"
        },
        "id": "gynZbY4LJY0y",
        "outputId": "5a5121e9-c6de-44ea-d2e4-ec1391a80959"
      },
      "execution_count": null,
      "outputs": [
        {
          "output_type": "execute_result",
          "data": {
            "text/plain": [
              "0.0"
            ]
          },
          "metadata": {},
          "execution_count": 6
        }
      ]
    },
    {
      "cell_type": "code",
      "source": [
        "g2 = np.array([\n",
        "    [0,1],\n",
        "    [1,0]\n",
        "])\n",
        "det_g2 = np.linalg.det(g2)\n",
        "det_g2"
      ],
      "metadata": {
        "colab": {
          "base_uri": "https://localhost:8080/"
        },
        "id": "XYrdtUIcLVtP",
        "outputId": "3ccbf773-be44-4a41-8c58-e5e3813af19a"
      },
      "execution_count": null,
      "outputs": [
        {
          "output_type": "execute_result",
          "data": {
            "text/plain": [
              "-1.0"
            ]
          },
          "metadata": {},
          "execution_count": 7
        }
      ]
    },
    {
      "cell_type": "code",
      "source": [
        "g3 = np.array([\n",
        "    [0,1,1],\n",
        "    [1,0,1],\n",
        "    [1,1,0]\n",
        "])\n",
        "det_g3 = np.linalg.det(g3)\n",
        "det_g3"
      ],
      "metadata": {
        "colab": {
          "base_uri": "https://localhost:8080/"
        },
        "id": "5ufAvD8YL2Ek",
        "outputId": "29417dfd-60cb-40a7-ab1b-b39fd38e3911"
      },
      "execution_count": null,
      "outputs": [
        {
          "output_type": "execute_result",
          "data": {
            "text/plain": [
              "2.0"
            ]
          },
          "metadata": {},
          "execution_count": 8
        }
      ]
    },
    {
      "cell_type": "code",
      "source": [
        "g4 = np.array([\n",
        "    [0,1,1,1],\n",
        "    [1,0,1,1],\n",
        "    [1,1,0,1],\n",
        "    [1,1,1,0]\n",
        "])\n",
        "det_g4 = round(np.linalg.det(g4),0)\n",
        "det_g4"
      ],
      "metadata": {
        "colab": {
          "base_uri": "https://localhost:8080/"
        },
        "id": "ZDiDasS2KzaN",
        "outputId": "8193f9f4-be8c-4793-c2b1-9d6a88934b65"
      },
      "execution_count": null,
      "outputs": [
        {
          "output_type": "execute_result",
          "data": {
            "text/plain": [
              "-3.0"
            ]
          },
          "metadata": {},
          "execution_count": 9
        }
      ]
    },
    {
      "cell_type": "code",
      "source": [
        "lst = [-1, 2, -3]\n",
        "n=15\n",
        "\n",
        "for i in range(3,n):\n",
        "  lst.append(lst[i-2] - lst[i-1])\n",
        "lst"
      ],
      "metadata": {
        "colab": {
          "base_uri": "https://localhost:8080/"
        },
        "id": "eL6pajbhMkcK",
        "outputId": "32247983-d438-47f1-9047-d539e4a1354a"
      },
      "execution_count": null,
      "outputs": [
        {
          "output_type": "execute_result",
          "data": {
            "text/plain": [
              "[-1, 2, -3, 5, -8, 13, -21, 34, -55, 89, -144, 233, -377, 610, -987]"
            ]
          },
          "metadata": {},
          "execution_count": 13
        }
      ]
    },
    {
      "cell_type": "markdown",
      "source": [
        "Therefore, we can say $G_{n} = G_{n-2}-G_{n-1}$"
      ],
      "metadata": {
        "id": "NkfAvwjnQ4pD"
      }
    }
  ]
}